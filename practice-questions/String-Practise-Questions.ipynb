{
 "cells": [
  {
   "cell_type": "markdown",
   "id": "e8e6f8ba",
   "metadata": {},
   "source": [
    "# String Manipulations"
   ]
  },
  {
   "cell_type": "markdown",
   "id": "22b84f77",
   "metadata": {},
   "source": [
    "# Question 1(Asked In Amazon,IBM)"
   ]
  },
  {
   "cell_type": "markdown",
   "id": "37eb2729",
   "metadata": {},
   "source": [
    " Anagram Detection Function for Efficient String Comparison\n",
    "\n",
    "Question:\n",
    "\n",
    "Amazon, a leading e-commerce company, is constantly striving to improve its search functionality to provide users with the best shopping experience. As part of this effort, they are looking to implement an anagram detection feature. Anagrams are words or phrases formed by rearranging the letters of another word or phrase. For instance, \"listen\" and \"silent\" are examples of anagrams.\n",
    "\n",
    "Your task is to design and implement a function in your preferred programming language that efficiently determines whether two strings are anagrams of each other."
   ]
  },
  {
   "cell_type": "markdown",
   "id": "e09e64bb",
   "metadata": {},
   "source": [
    "Input:\n",
    "Two strings, string1 and string2, to be checked for anagrams.\n",
    "\n",
    "Output:\n",
    "A boolean value indicating whether the input strings are anagrams of each other.\n",
    "\n",
    "Example:\n",
    "\n",
    "Input:\n",
    "string1 = \"listen\"\n",
    "string2 = \"silent\"\n",
    "\n",
    "Output:\n",
    "True\n",
    "\n",
    "\n",
    "Input:\n",
    "string1 = \"debit card\"\n",
    "string2 = \"bad credit\"\n",
    "\n",
    "\n",
    "Output:\n",
    "True\n",
    "\n"
   ]
  },
  {
   "cell_type": "code",
   "execution_count": 3,
   "id": "73bb8d62",
   "metadata": {},
   "outputs": [
    {
     "name": "stdout",
     "output_type": "stream",
     "text": [
      "True\n",
      "False\n"
     ]
    }
   ],
   "source": [
    "def are_anagrams(str1, str2):\n",
    "    # Remove spaces and convert both strings to lowercase\n",
    "    str1 = str1.replace(\" \", \"\").lower()\n",
    "    str2 = str2.replace(\" \", \"\").lower()\n",
    "    \n",
    "    # Check if the lengths of both strings are equal\n",
    "    if len(str1) != len(str2):\n",
    "        return False\n",
    "    \n",
    "    # Sort the characters of both strings\n",
    "    sorted_str1 = sorted(str1)\n",
    "    sorted_str2 = sorted(str2)\n",
    "    \n",
    "    # Compare the sorted strings\n",
    "    if sorted_str1 == sorted_str2:\n",
    "        return True\n",
    "    else:\n",
    "        return False\n",
    "\n",
    "# Test cases\n",
    "print(are_anagrams(\"listen\", \"silent\"))  # Output: True\n",
    "print(are_anagrams(\"hello\", \"world\"))    # Output: False\n"
   ]
  },
  {
   "cell_type": "code",
   "execution_count": 4,
   "id": "8f107eb5",
   "metadata": {},
   "outputs": [
    {
     "name": "stdout",
     "output_type": "stream",
     "text": [
      "True\n",
      "False\n"
     ]
    }
   ],
   "source": [
    "def are_anagrams(str1, str2):\n",
    "    # Remove spaces and convert both strings to lowercase\n",
    "    str1 = str1.replace(\" \", \"\").lower()\n",
    "    str2 = str2.replace(\" \", \"\").lower()\n",
    "    \n",
    "    # Check if the lengths of both strings are equal\n",
    "    if len(str1) != len(str2):\n",
    "        return False\n",
    "    \n",
    "    # Initialize a dictionary to count character frequencies\n",
    "    char_count = {}\n",
    "    \n",
    "    # Count character frequencies in str1\n",
    "    for char in str1:\n",
    "        char_count[char] = char_count.get(char, 0) + 1\n",
    "    \n",
    "    # Decrement character frequencies based on str2\n",
    "    for char in str2:\n",
    "        if char not in char_count:\n",
    "            return False  # char not present in str1, so not an anagram\n",
    "        char_count[char] -= 1\n",
    "    \n",
    "    # Check if all character frequencies are zero\n",
    "    for count in char_count.values():\n",
    "        if count != 0:\n",
    "            return False\n",
    "    \n",
    "    # If all characters have zero frequencies, then strings are anagrams\n",
    "    return True\n",
    "\n",
    "# Test cases\n",
    "print(are_anagrams(\"listen\", \"silent\"))  # Output: True\n",
    "print(are_anagrams(\"hello\", \"world\"))    # Output: False\n"
   ]
  },
  {
   "cell_type": "markdown",
   "id": "b97f19b1",
   "metadata": {},
   "source": [
    "# Question 2(Amazon-2020)"
   ]
  },
  {
   "cell_type": "markdown",
   "id": "777d211e",
   "metadata": {},
   "source": [
    "Title: String Palindrome Check Function\n",
    "\n",
    "Question:\n",
    "\n",
    "Amazon is updating its product review system and wants to implement a feature that detects whether a given string is a palindrome or not. A palindrome is a word, phrase, number, or other sequence of characters that reads the same forward and backward, ignoring spaces, punctuation, and capitalization. For example, \"racecar\" and \"A man, a plan, a canal, Panama!\" are palindromes.\n",
    "\n",
    "Your task is to implement a function in your preferred programming language that efficiently determines whether a given string is a palindrome."
   ]
  },
  {
   "cell_type": "raw",
   "id": "5c8f74d1",
   "metadata": {},
   "source": [
    "Input:\n",
    "A string to be checked for palindrome.\n",
    "\n",
    "Output:\n",
    "A boolean value indicating whether the input string is a palindrome.\n",
    "\n",
    "Example:\n",
    "\n",
    "Input:\n",
    "\"racecar\"\n",
    "\n",
    "Output:\n",
    "True\n",
    "\n",
    "\n",
    "Input:\n",
    "\"A man, a plan, a canal, Panama!\"\n",
    "\n",
    "Output:\n",
    "True\n",
    "\n",
    "\n",
    "Input:\n",
    "\"hello\"\n",
    "\n",
    "Output:\n",
    "False"
   ]
  },
  {
   "cell_type": "code",
   "execution_count": 6,
   "id": "2780cc93",
   "metadata": {},
   "outputs": [
    {
     "name": "stdout",
     "output_type": "stream",
     "text": [
      "True\n",
      "True\n",
      "False\n"
     ]
    }
   ],
   "source": [
    "def is_palindrome(s):\n",
    "    # Convert the string to lowercase\n",
    "    s = s.lower()\n",
    "    \n",
    "    # Initialize pointers for the start and end of the string\n",
    "    left, right = 0, len(s) - 1\n",
    "    \n",
    "    # Iterate until the pointers meet\n",
    "    while left < right:\n",
    "        # Skip non-alphanumeric characters from the left\n",
    "        while left < right and not s[left].isalnum():\n",
    "            left += 1\n",
    "        # Skip non-alphanumeric characters from the right\n",
    "        while left < right and not s[right].isalnum():\n",
    "            right -= 1\n",
    "        # Compare characters at the pointers\n",
    "        if s[left] != s[right]:\n",
    "            return False\n",
    "        # Move pointers towards the center\n",
    "        left += 1\n",
    "        right -= 1\n",
    "    \n",
    "    return True\n",
    "\n",
    "# Test cases\n",
    "print(is_palindrome(\"racecar\"))  # Output: True\n",
    "print(is_palindrome(\"A man, a plan, a canal, Panama!\"))  # Output: True\n",
    "print(is_palindrome(\"hello\"))  # Output: False\n"
   ]
  },
  {
   "cell_type": "code",
   "execution_count": 8,
   "id": "1d3c2e56",
   "metadata": {},
   "outputs": [
    {
     "name": "stdout",
     "output_type": "stream",
     "text": [
      "True\n",
      "True\n"
     ]
    }
   ],
   "source": [
    "def is_palindrome(s):\n",
    "    # Convert the string to lowercase\n",
    "    s = s.lower()\n",
    "    \n",
    "    # Initialize a stack and a queue\n",
    "    stack, queue = [], []\n",
    "    \n",
    "    # Populate the stack and queue with alphanumeric characters from the string\n",
    "    for char in s:\n",
    "        if char.isalnum():\n",
    "            stack.append(char)\n",
    "            queue.insert(0, char)  # Insert at the beginning to maintain the order\n",
    "    \n",
    "    # Compare characters popped from the stack and dequeued from the queue\n",
    "    while stack and queue:\n",
    "        if stack.pop() != queue.pop(0):\n",
    "            return False\n",
    "    \n",
    "    return True\n",
    "\n",
    "# Test cases\n",
    "print(is_palindrome(\"racecar\"))  # Output: True\n",
    "print(is_palindrome(\"A man, a plan, a canal, Panama!\"))  # Output: True\n",
    "\n"
   ]
  },
  {
   "cell_type": "markdown",
   "id": "8cb0f38f",
   "metadata": {},
   "source": [
    "# Question 3(TCS)"
   ]
  },
  {
   "cell_type": "markdown",
   "id": "05228bcc",
   "metadata": {},
   "source": [
    "Given a string and an integer k, rotate the string to the right by k characters. For example, if the input string is \"abcdefg\" and k is 3, the output should be \"efgabcd\"."
   ]
  },
  {
   "cell_type": "code",
   "execution_count": 12,
   "id": "fcb87a97",
   "metadata": {},
   "outputs": [
    {
     "name": "stdout",
     "output_type": "stream",
     "text": [
      "efgabcd\n"
     ]
    }
   ],
   "source": [
    "def rotate_string(s, k):\n",
    "    n = len(s)\n",
    "    k = k % n  # Adjust k in case it's greater than the length of the string\n",
    "    \n",
    "    # Rotate the string to the right by k characters\n",
    "    rotated_string = s[-k:] + s[:-k]\n",
    "    \n",
    "    return rotated_string\n",
    "\n",
    "# Test case\n",
    "input_string = \"abcdefg\"\n",
    "k = 3\n",
    "result = rotate_string(input_string, k)\n",
    "print(result)  # Output: \"efgabcd\"\n"
   ]
  },
  {
   "cell_type": "markdown",
   "id": "9f94f58d",
   "metadata": {},
   "source": [
    "# Question 4(Accenture,IBM)"
   ]
  },
  {
   "cell_type": "raw",
   "id": "42576915",
   "metadata": {},
   "source": [
    "Basic String Compression with Character Counts\n",
    "\n",
    "Question:\n",
    "\n",
    "Accenture is working on improving data storage efficiency in their systems and wants to implement a method for basic string compression. The compression method involves replacing consecutive repeated characters with the character followed by the count of consecutive occurrences. For example, the string \"aabcccccaaa\" would be compressed to \"a2b1c5a3\". However, if the compressed string is not shorter than the original string, the method should return the original string as it would not save any space."
   ]
  },
  {
   "cell_type": "code",
   "execution_count": 16,
   "id": "89677fc0",
   "metadata": {},
   "outputs": [
    {
     "name": "stdout",
     "output_type": "stream",
     "text": [
      "a3b2c3a3\n"
     ]
    }
   ],
   "source": [
    "def compress_string(s):\n",
    "    compressed = []\n",
    "    count = 0\n",
    "    \n",
    "    for i in range(len(s)):\n",
    "        count += 1\n",
    "        \n",
    "        # If the next character is different or we've reached the end of the string\n",
    "        if (i + 1 >= len(s)) or (s[i] != s[i + 1]):\n",
    "            compressed.append(s[i] + str(count))\n",
    "            count = 0\n",
    "    \n",
    "    compressed_str = ''.join(compressed)\n",
    "    \n",
    "    # Return the compressed string only if it's shorter than the original string\n",
    "    return compressed_str if len(compressed_str) < len(s) else s\n",
    "\n",
    "# Test case\n",
    "input_string = \"aaabbcccaaa\"\n",
    "compressed_string = compress_string(input_string)\n",
    "print(compressed_string)  # Output: \"a2b1c5a3\"\n"
   ]
  },
  {
   "cell_type": "markdown",
   "id": "9375375c",
   "metadata": {},
   "source": [
    "# Question 5(Amazon 23)"
   ]
  },
  {
   "cell_type": "raw",
   "id": "294a12be",
   "metadata": {},
   "source": [
    "Title: Count Unique Email Addresses\n",
    "\n",
    "Question:\n",
    "\n",
    "Amazon is developing an email management system and wants to implement a method to count the number of unique email addresses from a given list of email addresses. In this system, email addresses are considered unique if they refer to the same mailbox, even if they differ in the use of '.' or '+' characters in the local name.\n",
    "\n",
    "Your task is to implement a function in your preferred programming language that efficiently counts the number of unique email addresses from the given list.\n",
    "\n",
    "Input:[\"test.email+alex@leetcode.com\", \"test.e.mail+bob.cathy@leetcode.com\", \"testemail+david@lee.tcode.com\"]\n",
    "\n",
    "Output:2"
   ]
  },
  {
   "cell_type": "code",
   "execution_count": 3,
   "id": "01e32f63",
   "metadata": {},
   "outputs": [
    {
     "name": "stdout",
     "output_type": "stream",
     "text": [
      "2\n"
     ]
    }
   ],
   "source": [
    "def num_unique_emails(emails):\n",
    "    unique_emails = set()\n",
    "    for email in emails:\n",
    "        local, domain = email.split('@')\n",
    "        local = local.split('+')[0].replace('.', '')\n",
    "        unique_emails.add(local + '@' + domain)\n",
    "    return len(unique_emails)\n",
    "\n",
    "# Test the function\n",
    "emails = [\"test.email+alex@leetcode.com\", \"test.e.mail+bob.cathy@leetcode.com\", \"testemail+david@leet.code.com\"]\n",
    "print(num_unique_emails(emails))  # Output: 2\n"
   ]
  },
  {
   "cell_type": "markdown",
   "id": "66c9d3bf",
   "metadata": {},
   "source": [
    "# Question 6(Amazon)"
   ]
  },
  {
   "cell_type": "raw",
   "id": "82e81361",
   "metadata": {},
   "source": [
    "Problem Statement: Check if strings are rotations of each other or not\n",
    "Given two strings s1 and s2. The task is to check if s2 is a rotated version of the string s1. The characters in the strings are in lowercase.\n",
    "\n",
    "Test Case 1:\n",
    "\n",
    "Input:\n",
    "mightandmagic\n",
    "andmagicmigth\n",
    "\n",
    "Output:\n",
    "0\n",
    "\n",
    "Explanation:\n",
    "Here with any amount of rotation s2 can’t be obtained by s1.\n",
    "\n",
    "Your Task:\n",
    "The task is to complete the function areRotations() which checks if the two strings are rotations of each other. The function returns true if string 1 can be obtained by rotating string 2, else it returns false.\n"
   ]
  },
  {
   "cell_type": "code",
   "execution_count": 8,
   "id": "d78bc2ef",
   "metadata": {},
   "outputs": [
    {
     "name": "stdout",
     "output_type": "stream",
     "text": [
      "True\n"
     ]
    }
   ],
   "source": [
    "def areRotations(s1, s2):\n",
    "    # Check if both strings have the same length\n",
    "    if len(s1) != len(s2):\n",
    "        return False\n",
    "    \n",
    "    # Concatenate s1 with itself\n",
    "    temp = s1 + s1\n",
    "    \n",
    "    # Check if s2 is a substring of temp\n",
    "    if s2 in temp:\n",
    "        return True\n",
    "    else:\n",
    "        return False\n",
    "\n",
    "# Test case\n",
    "s1 = \"mightandmagic\"\n",
    "s2 = \"magicmightand\"\n",
    "print(areRotations(s1, s2))  # Output: False\n"
   ]
  },
  {
   "cell_type": "markdown",
   "id": "bdbdc4dd",
   "metadata": {},
   "source": [
    "# Question 7"
   ]
  },
  {
   "cell_type": "raw",
   "id": "c2926468",
   "metadata": {},
   "source": [
    "Program to find Smallest and Largest Word in a String\n",
    "Given a string, find the minimum and the maximum length words in it. \n",
    "\n",
    "Examples: \n",
    "\n",
    "Input : \"This is a test string\"\n",
    "Output : Minimum length word: a\n",
    "         Maximum length word: string\n",
    "Input : \"A computer Science portal\"\n",
    "Output : Minimum length word: A\n",
    "         Maximum length word: Computer"
   ]
  },
  {
   "cell_type": "code",
   "execution_count": 14,
   "id": "a079d4b3",
   "metadata": {},
   "outputs": [
    {
     "name": "stdout",
     "output_type": "stream",
     "text": [
      "Minimum length word: a\n",
      "Maximum length word: string\n"
     ]
    }
   ],
   "source": [
    "import re\n",
    "\n",
    "# Function to find the smallest and largest words in a string using regular expressions\n",
    "def find_smallest_largest_words_regex(input_str):\n",
    "    # Define a regular expression pattern to match words\n",
    "    word_regex = r'\\b\\w+\\b'\n",
    "    words = re.findall(word_regex, input_str)\n",
    "\n",
    "    # Initialize variables to store the smallest and largest words\n",
    "    smallest_word = \"\"\n",
    "    largest_word = \"\"\n",
    "\n",
    "# Iterate through the words in the string\n",
    "    for word in words:\n",
    "# Check if the current word is smaller than the smallest word found so far\n",
    "        if len(word) < len(smallest_word) or not smallest_word:\n",
    "            smallest_word = word\n",
    "\n",
    "# Check if the current word is larger than the largest word found so far\n",
    "        if len(word) > len(largest_word):\n",
    "            largest_word = word\n",
    "\n",
    "# Print the smallest and largest words\n",
    "    print(\"Minimum length word:\", smallest_word)\n",
    "    print(\"Maximum length word:\", largest_word)\n",
    "\n",
    "# Input string\n",
    "input_str = \"This is a test string\"\n",
    "\n",
    "# Call the function to find and display the smallest and largest words\n",
    "find_smallest_largest_words_regex(input_str)\n",
    "\n"
   ]
  },
  {
   "cell_type": "markdown",
   "id": "0f6df27f",
   "metadata": {},
   "source": [
    "# Question 8"
   ]
  },
  {
   "cell_type": "raw",
   "id": "4385eeb5",
   "metadata": {},
   "source": [
    "Camel case of a given sentence\n",
    "\n",
    "Given a sentence, task is to remove spaces from the sentence and rewrite in Camel case. It is a style of writing where we don’t have spaces and all words begin with capital letters.\n",
    "\n",
    "Example: \n",
    "Input :  Here comes the garden\n",
    "Output : HereComesTheGarden"
   ]
  },
  {
   "cell_type": "code",
   "execution_count": 1,
   "id": "0ce1f5ee",
   "metadata": {},
   "outputs": [
    {
     "name": "stdout",
     "output_type": "stream",
     "text": [
      "HereComesTheGarden\n"
     ]
    }
   ],
   "source": [
    "# Python3 program to convert given sentence\n",
    "# to camel case.\n",
    "\n",
    "# Function to remove spaces and convert\n",
    "# into camel case\n",
    "def convert(string):\n",
    "    while True:\n",
    "        i = 0\n",
    "        while i < len(string):\n",
    "            if string[i] == ' ':\n",
    "                string = string[:i] + string[i+1:].capitalize()\n",
    "                # Terminate inner loop after removing a space and making character next to it as capital\n",
    "                break\n",
    "            i += 1\n",
    "        # Terminate outer loop when we reach to the end of string\n",
    "        if i == len(string):\n",
    "            break\n",
    "    return string\n",
    "\n",
    "\n",
    "# Driver program\n",
    "if __name__ == '__main__':\n",
    "    string = \"Here comes the garden\"\n",
    "    print(convert(string))\n"
   ]
  },
  {
   "cell_type": "code",
   "execution_count": null,
   "id": "bf9537af",
   "metadata": {},
   "outputs": [],
   "source": []
  }
 ],
 "metadata": {
  "kernelspec": {
   "display_name": "Python 3 (ipykernel)",
   "language": "python",
   "name": "python3"
  },
  "language_info": {
   "codemirror_mode": {
    "name": "ipython",
    "version": 3
   },
   "file_extension": ".py",
   "mimetype": "text/x-python",
   "name": "python",
   "nbconvert_exporter": "python",
   "pygments_lexer": "ipython3",
   "version": "3.9.12"
  }
 },
 "nbformat": 4,
 "nbformat_minor": 5
}
