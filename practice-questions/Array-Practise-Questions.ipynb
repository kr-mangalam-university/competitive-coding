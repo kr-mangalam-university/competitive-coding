{
 "cells": [
  {
   "cell_type": "markdown",
   "id": "35d22006",
   "metadata": {},
   "source": [
    "# Arrays"
   ]
  },
  {
   "cell_type": "markdown",
   "id": "675037a2",
   "metadata": {},
   "source": [
    "# Question 1"
   ]
  },
  {
   "cell_type": "raw",
   "id": "d7733de9",
   "metadata": {},
   "source": [
    "Problem statement\n",
    "You are given an array 'ARR' consisting of 'N' non-negative integers, your task is to copy the elements of 'ARR' into another array 'COPY_ARR' in reverse order.\n",
    "\n",
    "For example:\n",
    "\n",
    "If 'ARR' contains the following elements [ 1, 2, 3, 4, 5 ], then you should return another array that is equal to [ 5, 4, 3, 2, 1].\n",
    "\n",
    "Sample Input 1 :\n",
    "2\n",
    "5\n",
    "1 2 3 4 5\n",
    "4\n",
    "5 8 2 1\n",
    "Sample Output 1 :\n",
    "5 4 3 2 1\n",
    "1 2 8 5\n",
    "Explanation For Sample Input 1 :\n",
    "The reverse of [1, 2, 3, 4, 5] is [5, 4, 3, 2,1]\n",
    "The reverse of [5, 8, 2, 1] is [1, 2, 8, 5].\n",
    "Sample Input 2 :\n",
    "3\n",
    "3\n",
    "3 2 1\n",
    "4\n",
    "8  6 2 4\n",
    "5\n",
    "1 3 5 4 2\n",
    "Sample Output 2 :\n",
    "1 2 3\n",
    "4 2 6 8\n",
    "2 4 5 3 1\n",
    "Explanation For Sample Input 2 :\n",
    "The reverse of [3, 2, 1] is [1, 2, 3].\n",
    "The reverse of [8, 6, 2, 4] is [4, 2, 6, 8].\n",
    "The reverse of [1, 3, 5, 4, 2] is [2, 4, 5, 3, 1]."
   ]
  },
  {
   "cell_type": "code",
   "execution_count": 2,
   "id": "ca9a3a8b",
   "metadata": {},
   "outputs": [
    {
     "name": "stdout",
     "output_type": "stream",
     "text": [
      "Enter the number of test cases: 1\n",
      "4\n",
      "2 4 5 1\n",
      "1 5 4 2\n"
     ]
    }
   ],
   "source": [
    "def reverse_array(arr):\n",
    "    start, end = 0, len(arr) - 1\n",
    "    while start < end:\n",
    "        arr[start], arr[end] = arr[end], arr[start]\n",
    "        start += 1\n",
    "        end -= 1\n",
    "    return arr\n",
    "\n",
    "def main():\n",
    "    T = int(input(\"Enter the number of test cases: \"))\n",
    "    \n",
    "    for _ in range(T):\n",
    "        N = int(input())\n",
    "        ARR = list(map(int, input().split()))\n",
    "        COPY_ARR = reverse_array(ARR)\n",
    "        print(*COPY_ARR)\n",
    "\n",
    "if __name__ == \"__main__\":\n",
    "    main()\n"
   ]
  },
  {
   "cell_type": "markdown",
   "id": "617c749b",
   "metadata": {},
   "source": [
    "# Question 2"
   ]
  },
  {
   "cell_type": "markdown",
   "id": "f2fa6d32",
   "metadata": {},
   "source": [
    "You are given an array containing integers, except for one element that appears only once. All other elements in the array appear twice. You need to find and return the element that occurs only once. "
   ]
  },
  {
   "cell_type": "raw",
   "id": "0e4b0885",
   "metadata": {},
   "source": [
    "Input:  arr[] = {2, 3, 5, 4, 5, 3, 4}\n",
    "Output: 2"
   ]
  },
  {
   "cell_type": "code",
   "execution_count": 3,
   "id": "d0de30ff",
   "metadata": {},
   "outputs": [
    {
     "name": "stdout",
     "output_type": "stream",
     "text": [
      "Element occurring once is 2\n"
     ]
    }
   ],
   "source": [
    "# Function to find the array \n",
    "# element that appears only once \n",
    "def findSingle(A, ar_size): \n",
    "    \n",
    "    # iterate over every element \n",
    "    for i in range(ar_size): \n",
    "        \n",
    "        # Initialize count to 0 \n",
    "        count = 0\n",
    "        for j in range(ar_size): \n",
    "            \n",
    "            # Count the frequency \n",
    "            # of the element \n",
    "            if(A[i] == A[j]): \n",
    "                count += 1\n",
    "  \n",
    "        # If the frequency of \n",
    "        # the element is one \n",
    "        if(count == 1): \n",
    "            return A[i] \n",
    "            \n",
    "    # If no element exist \n",
    "    # at most once \n",
    "    return -1\n",
    "  \n",
    "ar = [2, 3, 5, 4, 5, 3, 4] \n",
    "n = len(ar) \n",
    "# Function call \n",
    "print(\"Element occurring once is\", findSingle(ar, n))"
   ]
  },
  {
   "cell_type": "code",
   "execution_count": 1,
   "id": "a00fff34",
   "metadata": {},
   "outputs": [
    {
     "name": "stdout",
     "output_type": "stream",
     "text": [
      "0\n",
      "89\n"
     ]
    }
   ],
   "source": [
    "# function which find number \n",
    "def singleNumber(nums): \n",
    "  \n",
    "# applying the formula. \n",
    "    return 2 * sum(set(nums)) - sum(nums) \n",
    "  \n",
    "# driver code \n",
    "a = [2, 3, 5, 4, 5, 3, 4] \n",
    "print (int(singleNumber(a))) \n",
    "  \n",
    "a = [15, 18, 16, 18, 16, 15, 89] \n",
    "print (int(singleNumber(a))) \n",
    "  "
   ]
  },
  {
   "cell_type": "markdown",
   "id": "553f35a8",
   "metadata": {},
   "source": [
    "# Question 3"
   ]
  },
  {
   "cell_type": "raw",
   "id": "e1387e7b",
   "metadata": {},
   "source": [
    " To count frequency  of each element in the array\n",
    "Example 1:\n",
    "Input: arr[] = {10,5,10,15,10,5};\n",
    "Output: 10  3\n",
    "         5  2\n",
    "        15  1\n",
    "Explanation: 10 occurs 3 times in the array\n",
    "             5 occurs 2 times in the array\n",
    "             15 occurs 1 time in the array\n",
    "\n",
    "Example2: \n",
    "Input: arr[] = {2,2,3,4,4,2};\n",
    "Output: 2  3\n",
    "        3  1\n",
    "        4  2\n",
    "Explanation:2 occurs 3 times in the array\n",
    "            3 occurs 1 time in the array\n",
    "            4 occurs 2 time in the array"
   ]
  },
  {
   "cell_type": "code",
   "execution_count": 5,
   "id": "a0397e6e",
   "metadata": {},
   "outputs": [
    {
     "name": "stdout",
     "output_type": "stream",
     "text": [
      "Example 1:\n",
      "10: 3\n",
      "5: 2\n",
      "15: 1\n",
      "\n",
      "Example 2:\n",
      "2: 3\n",
      "3: 1\n",
      "4: 2\n"
     ]
    }
   ],
   "source": [
    "def count_frequency(arr):\n",
    "    frequency = {}\n",
    "\n",
    "    for element in arr:\n",
    "        if element in frequency:\n",
    "            frequency[element] += 1\n",
    "        else:\n",
    "            frequency[element] = 1\n",
    "\n",
    "    return frequency\n",
    "\n",
    "def main():\n",
    "    # Example usage\n",
    "    arr1 = [10, 5, 10, 15, 10, 5]\n",
    "    result1 = count_frequency(arr1)\n",
    "\n",
    "    print(\"Example 1:\")\n",
    "    for element, freq in result1.items():\n",
    "        print(f\"{element}: {freq}\")\n",
    "\n",
    "    arr2 = [2, 2, 3, 4, 4, 2]\n",
    "    result2 = count_frequency(arr2)\n",
    "\n",
    "    print(\"\\nExample 2:\")\n",
    "    for element, freq in result2.items():\n",
    "        print(f\"{element}: {freq}\")\n",
    "\n",
    "if __name__ == \"__main__\":\n",
    "    main()\n"
   ]
  },
  {
   "cell_type": "markdown",
   "id": "3f146e54",
   "metadata": {},
   "source": [
    "# Question 4"
   ]
  },
  {
   "cell_type": "markdown",
   "id": "8237f614",
   "metadata": {},
   "source": [
    "Two Sum : Check if a pair with given sum exists in Array\n",
    "Problem Statement: Given an array of integers arr[] and an integer target.\n",
    "\n",
    "1st variant: Return YES if there exist two numbers such that their sum is equal to the target. Otherwise, return NO.\n",
    "\n",
    "2nd variant: Return indices of the two numbers such that their sum is equal to the target. Otherwise, we will return {-1, -1}.\n",
    "\n",
    "Note: You are not allowed to use the same element twice. Example: If the target is equal to 6 and num[1] = 3, then nums[1] + nums[1] = target is not a solution.\n",
    "\n",
    "\n",
    "Example 1:\n",
    "Input Format: N = 5, arr[] = {2,6,5,8,11}, target = 14\n",
    "Result: YES (for 1st variant)\n",
    "       [1, 3] (for 2nd variant)\n",
    "Explanation: arr[1] + arr[3] = 14. So, the answer is “YES” for the first variant and [1, 3] for 2nd variant.\n",
    "\n",
    "Example 2:\n",
    "Input Format: N = 5, arr[] = {2,6,5,8,11}, target = 15\n",
    "Result: NO (for 1st variant)\n",
    "\t[-1, -1] (for 2nd variant)\n",
    "Explanation: There exist no such two numbers whose sum is equal to the target."
   ]
  },
  {
   "cell_type": "code",
   "execution_count": 6,
   "id": "5bd8262c",
   "metadata": {},
   "outputs": [
    {
     "name": "stdout",
     "output_type": "stream",
     "text": [
      "This is the answer for variant 1: YES\n"
     ]
    }
   ],
   "source": [
    "def two_sum(n, arr, target):\n",
    "    for i in range(n):\n",
    "        for j in range(i + 1, n):\n",
    "            if arr[i] + arr[j] == target:\n",
    "                return \"YES\"\n",
    "    return \"NO\"\n",
    "\n",
    "# Example usage\n",
    "n = 5\n",
    "arr = [2, 6, 5, 8, 11]\n",
    "target = 14\n",
    "ans = two_sum(n, arr, target)\n",
    "print(f\"This is the answer for variant 1: {ans}\")\n"
   ]
  },
  {
   "cell_type": "code",
   "execution_count": 7,
   "id": "de5dfcf9",
   "metadata": {},
   "outputs": [
    {
     "name": "stdout",
     "output_type": "stream",
     "text": [
      "This is the answer for variant 2: [1, 3]\n"
     ]
    }
   ],
   "source": [
    "def two_sum_indices(n, arr, target):\n",
    "    for i in range(n):\n",
    "        for j in range(i + 1, n):\n",
    "            if arr[i] + arr[j] == target:\n",
    "                return [i, j]\n",
    "    return [-1, -1]\n",
    "\n",
    "# Example usage\n",
    "n = 5\n",
    "arr = [2, 6, 5, 8, 11]\n",
    "target = 14\n",
    "ans = two_sum_indices(n, arr, target)\n",
    "print(f\"This is the answer for variant 2: {ans}\")\n"
   ]
  },
  {
   "cell_type": "markdown",
   "id": "b7c5bc4d",
   "metadata": {},
   "source": [
    "# Question 5"
   ]
  },
  {
   "cell_type": "markdown",
   "id": "81545d42",
   "metadata": {},
   "source": [
    "Remove Duplicates in-place from Sorted Array\n",
    "Problem Statement: Given an integer array sorted in non-decreasing order, remove the duplicates in place such that each unique element appears only once. The relative order of the elements should be kept the same.\n",
    "\n",
    "If there are k elements after removing the duplicates, then the first k elements of the array should hold the final result. It does not matter what you leave beyond the first k elements.\n",
    "\n",
    "Note: Return k after placing the final result in the first k slots of the array.\n",
    "\n",
    "Examples\n",
    "Example 1: \n",
    "\n",
    "Input: arr[1,1,2,2,2,3,3]\n",
    "\n",
    "Output: arr[1,2,3]\n",
    "\n",
    "Explanation: Total number of unique elements are 3, i.e[1,2,3] and Therefore return 3 after assigning [1,2,3] in the beginning of the array.\n",
    "\n",
    "Example 2: \n",
    "\n",
    "Input: arr[1,1,1,2,2,3,3,3,3,4,4]\n",
    "\n",
    "Output: arr[1,2,3,4]\n",
    "\n",
    "Explanation: Total number of unique elements are 4, i.e[1,2,3,4] and Therefore return 4 after assigning [1,2,3,4] in the beginning of the array."
   ]
  },
  {
   "cell_type": "code",
   "execution_count": 9,
   "id": "50379776",
   "metadata": {},
   "outputs": [
    {
     "name": "stdout",
     "output_type": "stream",
     "text": [
      "Output: [1, 1, 2, 2, 2, 3, 3]\n",
      "Output: [1, 1, 1, 2, 2, 3, 3, 3, 3, 4, 4]\n"
     ]
    }
   ],
   "source": [
    "def remove_duplicates(nums):\n",
    "    #write your code here\n",
    "   pass\n",
    "\n",
    "# Example usage\n",
    "arr1 = [1, 1, 2, 2, 2, 3, 3]\n",
    "k1 = remove_duplicates(arr1)\n",
    "print(\"Output:\", arr1[:k1])  # Output: [1, 2, 3]\n",
    "\n",
    "arr2 = [1, 1, 1, 2, 2, 3, 3, 3, 3, 4, 4]\n",
    "k2 = remove_duplicates(arr2)\n",
    "print(\"Output:\", arr2[:k2])  # Output: [1, 2, 3, 4]\n"
   ]
  },
  {
   "cell_type": "code",
   "execution_count": 12,
   "id": "9a5f0e2d",
   "metadata": {},
   "outputs": [
    {
     "name": "stdout",
     "output_type": "stream",
     "text": [
      "The array after removing duplicate elements is \n",
      "1 2 3 "
     ]
    }
   ],
   "source": [
    "\n",
    "\n",
    "def removeDuplicates(arr):\n",
    "    i = 0\n",
    "    for j in range(1, len(arr)):\n",
    "        if arr[i] != arr[j]:\n",
    "            i += 1\n",
    "            arr[i] = arr[j]\n",
    "    return i + 1\n",
    "\n",
    "\n",
    "if __name__ == \"__main__\":\n",
    "    arr = [1, 1, 2, 2, 2, 3, 3]\n",
    "    k = removeDuplicates(arr)\n",
    "    print(\"The array after removing duplicate elements is \")\n",
    "    for i in range(k):\n",
    "        print(arr[i], end=\" \")"
   ]
  },
  {
   "cell_type": "markdown",
   "id": "157a23b3",
   "metadata": {},
   "source": [
    "# Question 6"
   ]
  },
  {
   "cell_type": "raw",
   "id": "ffd5a362",
   "metadata": {},
   "source": [
    "Given a sorted array of size N and an integer K, find the position(0-based indexing) at which K is present in the array using binary search.\n",
    "\n",
    "Example 1:\n",
    "\n",
    "Input:\n",
    "N = 5\n",
    "arr[] = {1 2 3 4 5} \n",
    "K = 4\n",
    "Output: 3\n",
    "Explanation: 4 appears at index 3.\n",
    "\n",
    "Example 2:\n",
    "\n",
    "Input:\n",
    "N = 5\n",
    "arr[] = {11 22 33 44 55} \n",
    "K = 445\n",
    "Output: -1\n",
    "Explanation: 445 is not present."
   ]
  },
  {
   "cell_type": "code",
   "execution_count": 13,
   "id": "909f7cfd",
   "metadata": {},
   "outputs": [
    {
     "name": "stdout",
     "output_type": "stream",
     "text": [
      "3\n",
      "-1\n"
     ]
    }
   ],
   "source": [
    "def binary_search(arr, N, K):\n",
    "   pass\n",
    "\n",
    "# Example usage:\n",
    "arr1 = [1, 2, 3, 4, 5]\n",
    "N1 = 5\n",
    "K1 = 4\n",
    "print(binary_search(arr1, N1, K1))  # Output: 3\n",
    "\n",
    "arr2 = [11, 22, 33, 44, 55]\n",
    "N2 = 5\n",
    "K2 = 445\n",
    "print(binary_search(arr2, N2, K2))  # Output: -1\n"
   ]
  },
  {
   "cell_type": "markdown",
   "id": "33d941de",
   "metadata": {},
   "source": [
    "# Question 7"
   ]
  },
  {
   "cell_type": "raw",
   "id": "d480fd28",
   "metadata": {},
   "source": [
    "Stock Buy And Sell\n",
    "Problem Statement: You are given an array of prices where prices[i] is the price of a given stock on an ith day.\n",
    "\n",
    "You want to maximize your profit by choosing a single day to buy one stock and choosing a different day in the future to sell that stock. Return the maximum profit you can achieve from this transaction. If you cannot achieve any profit, return 0.\n",
    "\n",
    "Examples\n",
    "Example 1:\n",
    "\n",
    "Input: prices = [7,1,5,3,6,4]\n",
    "Output: 5\n",
    "Explanation: Buy on day 2 (price = 1) and \n",
    "sell on day 5 (price = 6), profit = 6-1 = 5.\n",
    "\n",
    "Note: That buying on day 2 and selling on day 1 \n",
    "is not allowed because you must buy before \n",
    "you sell.\n",
    "\n",
    "Example 2:\n",
    "\n",
    "Input: prices = [7,6,4,3,1]\n",
    "Output: 0\n",
    "Explanation: In this case, no transactions are \n",
    "done and the max profit = 0."
   ]
  },
  {
   "cell_type": "code",
   "execution_count": 16,
   "id": "413091e6",
   "metadata": {},
   "outputs": [
    {
     "name": "stdout",
     "output_type": "stream",
     "text": [
      "Max profit is:  5\n"
     ]
    }
   ],
   "source": [
    "\n",
    "\n",
    "def maxProfit(arr):\n",
    "    maxPro = 0\n",
    "    n = len(arr)\n",
    "\n",
    "\n",
    "    for i in range(n):\n",
    "        for j in range(i + 1, n):\n",
    "            if arr[j] > arr[i]:\n",
    "                maxPro = max(arr[j] - arr[i], maxPro)\n",
    "\n",
    "\n",
    "    return maxPro\n",
    "\n",
    "\n",
    "if __name__ == \"__main__\":\n",
    "    arr = [7, 1, 5, 3, 6, 4]\n",
    "    maxPro = maxProfit(arr)\n",
    "    print(\"Max profit is: \", maxPro)\n"
   ]
  },
  {
   "cell_type": "markdown",
   "id": "3ebd8ec7",
   "metadata": {},
   "source": [
    "# Question 8"
   ]
  },
  {
   "cell_type": "raw",
   "id": "bbd6aa54",
   "metadata": {},
   "source": [
    "Problem statement\n",
    "You are the receptionist at a hotel which has 10 floors, numbered from 0 to 9 and each floor has 26 rooms named from ‘A’ to ‘Z’. Being a receptionist your task is to handle booking queries.\n",
    "\n",
    "You get booking queries in the form of strings of size 3 where 1st character is ‘+’ means room is booked, or ‘-’ means room is freed. Second character represents the floor of the room i.e, ‘0’ to ‘9’. Third character represents the room name i.e, ‘A’ to ‘Z’.\n",
    "\n",
    "On booking of each room you collect 1 coin from the customer. After the end of all the booking queries you have to count the number of coins you collected.\n",
    "\n",
    "You may assume that the list describes a correct sequence of bookings in chronological order i.e., only free rooms can be booked, and only booked rooms can be freed.\n",
    "\n",
    "For Example:-\n",
    "\n",
    "Consider booking queries to be [\"+1A\", \"+3E\", \"-1A\", \"+4F\", \"+1A\", \"-3E\"]\n",
    "+1A: Room A on the 1st floor is booked and you collected 1 coin.\n",
    "+3E: Room E on the 3rd floor is booked and you collected 1 coin.\n",
    "-1A: Room A on the 1st floor is freed.\n",
    "+4F: Room F on the 4th floor is booked and you collected 1 coin.\n",
    "+1A: Room A on the 1st floor is booked and you collected 1 coin.\n",
    "-3E: Room E on the 3rd floor is freed.\n",
    "So you collected 4 coins.\n",
    "\n",
    "\n",
    "Sample Input 1:\n",
    "2\n",
    "6\n",
    "+1A +3E -1A +4F +1A -3E\n",
    "3\n",
    "+0A +0B +0C\n",
    "Sample Output 1:\n",
    "4\n",
    "3\n",
    "Explanation For Sample Input 1:\n",
    "Test Case 1: Please refer to the example above.\n",
    "\n",
    "Test Case 2: Room 0A, 0B & 0C is booked so we collected 3 coins.\n",
    "Sample Input 2:\n",
    "2\n",
    "4\n",
    "+8D -8D +8D -8D\n",
    "7\n",
    "+3C +2B +7K -2B +6C -3C +5S\n",
    "Sample Output 2:\n",
    "2\n",
    "5"
   ]
  },
  {
   "cell_type": "code",
   "execution_count": 20,
   "id": "d4d135cc",
   "metadata": {},
   "outputs": [
    {
     "name": "stdout",
     "output_type": "stream",
     "text": [
      "1\n",
      "3\n",
      "+1A +3C +4D\n",
      "3\n"
     ]
    }
   ],
   "source": [
    "def count_coins(queries):\n",
    "    booked_rooms = set()\n",
    "    coins_collected = 0\n",
    "\n",
    "    for query in queries:\n",
    "        action, floor, room = query[0], int(query[1]), query[2]\n",
    "\n",
    "        if action == '+':\n",
    "            room_id = (floor, room)\n",
    "            if room_id not in booked_rooms:\n",
    "                booked_rooms.add(room_id)\n",
    "                coins_collected += 1\n",
    "        elif action == '-':\n",
    "            room_id = (floor, room)\n",
    "            if room_id in booked_rooms:\n",
    "                booked_rooms.remove(room_id)\n",
    "\n",
    "\n",
    "    return coins_collected\n",
    "\n",
    "def main():\n",
    "    T = int(input())\n",
    "    \n",
    "    for _ in range(T):\n",
    "        N = int(input())\n",
    "        queries = input().split()\n",
    "        coins_collected = count_coins(queries)\n",
    "        print(coins_collected)\n",
    "\n",
    "if __name__ == \"__main__\":\n",
    "    main()\n"
   ]
  },
  {
   "cell_type": "code",
   "execution_count": null,
   "id": "d8d2e632",
   "metadata": {},
   "outputs": [],
   "source": []
  }
 ],
 "metadata": {
  "kernelspec": {
   "display_name": "Python 3 (ipykernel)",
   "language": "python",
   "name": "python3"
  },
  "language_info": {
   "codemirror_mode": {
    "name": "ipython",
    "version": 3
   },
   "file_extension": ".py",
   "mimetype": "text/x-python",
   "name": "python",
   "nbconvert_exporter": "python",
   "pygments_lexer": "ipython3",
   "version": "3.9.12"
  }
 },
 "nbformat": 4,
 "nbformat_minor": 5
}
